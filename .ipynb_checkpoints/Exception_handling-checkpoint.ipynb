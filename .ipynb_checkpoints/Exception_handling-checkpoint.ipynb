{
 "cells": [
  {
   "cell_type": "code",
   "execution_count": null,
   "id": "11eedd50",
   "metadata": {},
   "outputs": [
    {
     "name": "stdout",
     "output_type": "stream",
     "text": [
      "enter the number8\n",
      "this number is Too Small \n",
      "\n",
      "rou have entered  8\n",
      "enter the number21\n",
      "this number is too large\n",
      "\n",
      "rou have entered  21\n"
     ]
    }
   ],
   "source": [
    "class Error(Exception):\n",
    "    pass\n",
    "class ValueTooSmallError(Error):\n",
    "    pass\n",
    "class ValueTooLargeError(Error):\n",
    "    pass\n",
    "\n",
    "number = 20\n",
    "\n",
    "while True:\n",
    "    try:\n",
    "        num = int(input(\"enter the number\"))\n",
    "        if num>number:\n",
    "            raise ValueTooLargeError \n",
    "        elif num<number:\n",
    "            raise ValueTooSmallError\n",
    "        break\n",
    "    except ValueTooSmallError:\n",
    "        print(\"this number is Too Small \")\n",
    "        print()\n",
    "    except ValueTooLargeError:\n",
    "        print(\"this number is too large\")\n",
    "        print()\n",
    "        \n",
    "    print(\"rou have entered \",num)\n"
   ]
  }
 ],
 "metadata": {
  "kernelspec": {
   "display_name": "Python 3 (ipykernel)",
   "language": "python",
   "name": "python3"
  },
  "language_info": {
   "codemirror_mode": {
    "name": "ipython",
    "version": 3
   },
   "file_extension": ".py",
   "mimetype": "text/x-python",
   "name": "python",
   "nbconvert_exporter": "python",
   "pygments_lexer": "ipython3",
   "version": "3.9.7"
  }
 },
 "nbformat": 4,
 "nbformat_minor": 5
}
