{
 "cells": [
  {
   "cell_type": "code",
   "execution_count": null,
   "id": "11eedd50",
   "metadata": {},
   "outputs": [
    {
     "name": "stdout",
     "output_type": "stream",
     "text": [
      "enter the number78\n",
      "this number is too large\n",
      "\n",
      "you have entered  78\n"
     ]
    }
   ],
   "source": [
    "class Error(Exception):\n",
    "    pass\n",
    "class ValueTooSmallError(Error):\n",
    "    pass\n",
    "class ValueTooLargeError(Error):\n",
    "    pass\n",
    "\n",
    "number = 20\n",
    "\n",
    "while True:\n",
    "    try:\n",
    "        num = int(input(\"enter the number\"))\n",
    "        if num>number:\n",
    "            raise ValueTooLargeError \n",
    "        elif num<number:\n",
    "            raise ValueTooSmallError\n",
    "        break\n",
    "    except ValueTooSmallError:\n",
    "        print(\"this number is Too Small \")\n",
    "        print()\n",
    "    except ValueTooLargeError:\n",
    "        print(\"this number is too large\")\n",
    "        print()\n",
    "        \n",
    "    print(\"you have entered \",num)\n"
   ]
  },
  {
   "cell_type": "code",
   "execution_count": 1,
   "id": "6ea2cffa",
   "metadata": {},
   "outputs": [
    {
     "ename": "IndentationError",
     "evalue": "unexpected unindent (Temp/ipykernel_15536/2322968178.py, line 20)",
     "output_type": "error",
     "traceback": [
      "\u001b[1;36m  File \u001b[1;32m\"C:\\Users\\HP\\AppData\\Local\\Temp/ipykernel_15536/2322968178.py\"\u001b[1;36m, line \u001b[1;32m20\u001b[0m\n\u001b[1;33m    except To_small_value_exception:\u001b[0m\n\u001b[1;37m                                    ^\u001b[0m\n\u001b[1;31mIndentationError\u001b[0m\u001b[1;31m:\u001b[0m unexpected unindent\n"
     ]
    }
   ],
   "source": []
  },
  {
   "cell_type": "code",
   "execution_count": null,
   "id": "9a0f5cf2",
   "metadata": {},
   "outputs": [],
   "source": []
  }
 ],
 "metadata": {
  "kernelspec": {
   "display_name": "Python 3 (ipykernel)",
   "language": "python",
   "name": "python3"
  },
  "language_info": {
   "codemirror_mode": {
    "name": "ipython",
    "version": 3
   },
   "file_extension": ".py",
   "mimetype": "text/x-python",
   "name": "python",
   "nbconvert_exporter": "python",
   "pygments_lexer": "ipython3",
   "version": "3.9.7"
  }
 },
 "nbformat": 4,
 "nbformat_minor": 5
}
