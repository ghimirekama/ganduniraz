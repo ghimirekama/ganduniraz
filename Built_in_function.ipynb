{
 "cells": [
  {
   "cell_type": "code",
   "execution_count": 18,
   "id": "45a6ff83",
   "metadata": {
    "scrolled": true
   },
   "outputs": [
    {
     "name": "stdout",
     "output_type": "stream",
     "text": [
      "hello kamal ghimire,Goodmorning\n"
     ]
    }
   ],
   "source": [
    "print(\"hello {name},{greeting}\".format(name =\"kamal ghimire\",greeting = \"Goodmorning\"))"
   ]
  },
  {
   "cell_type": "code",
   "execution_count": 15,
   "id": "a1d80a9f",
   "metadata": {
    "scrolled": true
   },
   "outputs": [
    {
     "name": "stdout",
     "output_type": "stream",
     "text": [
      "Hello John, Goodmorning\n"
     ]
    }
   ],
   "source": [
    "print('Hello {name}, {greeting}'.format(greeting = 'Goodmorning', name = 'John'))"
   ]
  },
  {
   "cell_type": "code",
   "execution_count": 65,
   "id": "4b44f2cc",
   "metadata": {
    "scrolled": true
   },
   "outputs": [
    {
     "name": "stdout",
     "output_type": "stream",
     "text": [
      "enter the numberskomdfjos\n",
      "Oop! enter the integer\n"
     ]
    }
   ],
   "source": [
    "try:\n",
    "    name =int(input(\"enter the number\"))\n",
    "    print(\"the input number is\",name)\n",
    "except:\n",
    "    print(\"Oop! enter the integer\")\n",
    "    \n"
   ]
  },
  {
   "cell_type": "code",
   "execution_count": 32,
   "id": "dfbabd70",
   "metadata": {},
   "outputs": [
    {
     "name": "stdout",
     "output_type": "stream",
     "text": [
      "[1, 9, 25, 49, 81]\n"
     ]
    }
   ],
   "source": [
    "list1 =[*range(1,10,2)]\n",
    "def my_func(num):\n",
    "   return num*num\n",
    "new_list_mapping = map(my_func,list1)\n",
    "newlist = list(new_list_mapping)\n",
    "print(newlist)"
   ]
  },
  {
   "cell_type": "code",
   "execution_count": 51,
   "id": "35a72b62",
   "metadata": {},
   "outputs": [
    {
     "name": "stdout",
     "output_type": "stream",
     "text": [
      "<class 'map'>\n",
      "[1, 4, 9, 16, 25]\n"
     ]
    }
   ],
   "source": [
    "list2 =[1,2,3,4,5]\n",
    "print(map)\n",
    "\n",
    "newlist= list(map(lambda x: x**2, list2))\n",
    "print(newlist)"
   ]
  },
  {
   "cell_type": "code",
   "execution_count": 54,
   "id": "202d1289",
   "metadata": {},
   "outputs": [
    {
     "name": "stdout",
     "output_type": "stream",
     "text": [
      "[4, 16, 36, 64, 100]\n",
      "[]\n"
     ]
    }
   ],
   "source": [
    "list3 = [*range(2,12,2)]\n",
    "new_list_iterator = map(lambda num : num*num , list3)\n",
    "new_list =  list(new_list_iterator)\n",
    "print(new_list)\n",
    "print(new_list_iterator)"
   ]
  },
  {
   "cell_type": "code",
   "execution_count": 57,
   "id": "1c303450",
   "metadata": {},
   "outputs": [
    {
     "name": "stdout",
     "output_type": "stream",
     "text": [
      "[2, 4]\n"
     ]
    }
   ],
   "source": [
    "new_list_iterator = filter(lambda num :num%2 == 0,list2)\n",
    "new_list = list(new_list_iterator)\n",
    "print(new_list)"
   ]
  }
 ],
 "metadata": {
  "kernelspec": {
   "display_name": "Python 3 (ipykernel)",
   "language": "python",
   "name": "python3"
  },
  "language_info": {
   "codemirror_mode": {
    "name": "ipython",
    "version": 3
   },
   "file_extension": ".py",
   "mimetype": "text/x-python",
   "name": "python",
   "nbconvert_exporter": "python",
   "pygments_lexer": "ipython3",
   "version": "3.9.7"
  }
 },
 "nbformat": 4,
 "nbformat_minor": 5
}
